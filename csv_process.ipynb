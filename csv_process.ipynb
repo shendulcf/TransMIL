{
 "cells": [
  {
   "cell_type": "code",
   "execution_count": 10,
   "metadata": {},
   "outputs": [],
   "source": [
    "import pandas as pd\n",
    "import os\n",
    "\n",
    "# 读取原始CSV文件\n",
    "df = pd.read_csv('pathology_images_d040722.csv')\n",
    "\n",
    "# 保留指定的三列，并将列名改为case_id，slide_id和label\n",
    "selected_columns = ['pid', 'image_filename', 'selected_path_batch']\n",
    "df_selected = df[selected_columns].copy()\n",
    "df_selected.columns = ['case_id', 'slide_id', 'label']\n",
    "\n",
    "# 删除image_filename列中的文件名后缀\n",
    "df_selected['slide_id'] = df_selected['slide_id'].apply(lambda x: os.path.splitext(x)[0])\n",
    "\n",
    "# 将label列中的值1，2，3，4替换为LUAD，将5，6，7替换为LUSC\n",
    "df_selected['label'] = df_selected['label'].replace({1: 'LUAD', 2: 'LUAD', 3: 'LUAD', 4: 'LUAD', 5: 'LUSC', 6: 'LUSC', 7: 'LUSC'})\n",
    "\n",
    "# 过滤label列中值不在1，2，3，4，5，6，7范围内的行\n",
    "valid_labels = ['LUAD', 'LUSC']\n",
    "df_filtered = df_selected[df_selected['label'].isin(valid_labels)].copy()\n",
    "\n",
    "# 按case_id和slide_id进行排序\n",
    "df_filtered.sort_values(by=['case_id', 'slide_id'], inplace=True)\n",
    "\n",
    "# 将处理后的数据保存为新的CSV文件\n",
    "df_filtered.to_csv('NLST_offical.csv', index=False)"
   ]
  }
 ],
 "metadata": {
  "kernelspec": {
   "display_name": "gpu",
   "language": "python",
   "name": "python3"
  },
  "language_info": {
   "codemirror_mode": {
    "name": "ipython",
    "version": 3
   },
   "file_extension": ".py",
   "mimetype": "text/x-python",
   "name": "python",
   "nbconvert_exporter": "python",
   "pygments_lexer": "ipython3",
   "version": "3.11.4"
  }
 },
 "nbformat": 4,
 "nbformat_minor": 2
}
