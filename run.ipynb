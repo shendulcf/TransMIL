{
 "cells": [
  {
   "cell_type": "code",
   "execution_count": 4,
   "metadata": {},
   "outputs": [
    {
     "data": {
      "text/plain": [
       "'e:\\\\Workspace\\\\Project\\\\TransMIL'"
      ]
     },
     "execution_count": 4,
     "metadata": {},
     "output_type": "execute_result"
    }
   ],
   "source": [
    "import os\n",
    "os.getcwd()"
   ]
  },
  {
   "cell_type": "code",
   "execution_count": 14,
   "metadata": {},
   "outputs": [
    {
     "name": "stdout",
     "output_type": "stream",
     "text": [
      "niuwa\n",
      "---->Log dir: E:\\Workspace\\Project\\TransMIL\\Camelyon\\fanfan\\fold0\n"
     ]
    },
    {
     "name": "stderr",
     "output_type": "stream",
     "text": [
      "Global seed set to 2021\n",
      "f:\\Miniconda\\envs\\test\\lib\\site-packages\\torchmetrics\\utilities\\prints.py:36: UserWarning: Metric `AUROC` will save all targets and predictions in buffer. For large datasets this may lead to large memory footprint.\n",
      "  warnings.warn(*args, **kwargs)\n",
      "f:\\Miniconda\\envs\\test\\lib\\site-packages\\deprecate\\deprecation.py:115: FutureWarning: The `F1` was deprecated since v0.7 in favor of `torchmetrics.classification.f_beta.F1Score`. It will be removed in v0.8.\n",
      "  stream(template_mgs % msg_args)\n",
      "Traceback (most recent call last):\n",
      "  File \"e:\\Workspace\\Project\\TransMIL\\train.py\", line 95, in <module>\n",
      "    main(cfg)\n",
      "  File \"e:\\Workspace\\Project\\TransMIL\\train.py\", line 56, in main\n",
      "    trainer = Trainer(\n",
      "  File \"f:\\Miniconda\\envs\\test\\lib\\site-packages\\pytorch_lightning\\trainer\\connectors\\env_vars_connector.py\", line 38, in insert_env_defaults\n",
      "    return fn(self, **kwargs)\n",
      "  File \"f:\\Miniconda\\envs\\test\\lib\\site-packages\\pytorch_lightning\\trainer\\trainer.py\", line 431, in __init__\n",
      "    self._accelerator_connector = AcceleratorConnector(\n",
      "  File \"f:\\Miniconda\\envs\\test\\lib\\site-packages\\pytorch_lightning\\trainer\\connectors\\accelerator_connector.py\", line 181, in __init__\n",
      "    self.accelerator = self.select_accelerator()\n",
      "  File \"f:\\Miniconda\\envs\\test\\lib\\site-packages\\pytorch_lightning\\trainer\\connectors\\accelerator_connector.py\", line 803, in select_accelerator\n",
      "    accelerator = acc_cls(training_type_plugin=self.training_type_plugin, precision_plugin=self.precision_plugin)\n",
      "  File \"f:\\Miniconda\\envs\\test\\lib\\site-packages\\pytorch_lightning\\trainer\\connectors\\accelerator_connector.py\", line 399, in precision_plugin\n",
      "    self._precision_plugin = self.select_precision_plugin()\n",
      "  File \"f:\\Miniconda\\envs\\test\\lib\\site-packages\\pytorch_lightning\\trainer\\connectors\\accelerator_connector.py\", line 613, in select_precision_plugin\n",
      "    raise MisconfigurationException(\n",
      "pytorch_lightning.utilities.exceptions.MisconfigurationException: You have asked for `amp_level='O2'` but it's only supported with `amp_backend='apex'`.\n"
     ]
    }
   ],
   "source": [
    "!python train.py --stage='train' --config=E://Workspace/Project/TransMIL/Camelyon/fanfan.yaml  --gpus=0 --fold=0"
   ]
  },
  {
   "cell_type": "code",
   "execution_count": null,
   "metadata": {},
   "outputs": [],
   "source": [
    "!python train.py --stage='test' --config='Camelyon/TransMIL.yaml'  --gpus=0 --fold=0"
   ]
  }
 ],
 "metadata": {
  "kernelspec": {
   "display_name": "Python 3.9.7 ('test')",
   "language": "python",
   "name": "python3"
  },
  "language_info": {
   "codemirror_mode": {
    "name": "ipython",
    "version": 3
   },
   "file_extension": ".py",
   "mimetype": "text/x-python",
   "name": "python",
   "nbconvert_exporter": "python",
   "pygments_lexer": "ipython3",
   "version": "3.9.7"
  },
  "orig_nbformat": 4,
  "vscode": {
   "interpreter": {
    "hash": "1ba69ead3279dcefa2bd7fda5deb51a7e26be9b05f7bd0cbc7b7763c85faaf54"
   }
  }
 },
 "nbformat": 4,
 "nbformat_minor": 2
}
