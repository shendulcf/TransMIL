{
 "cells": [
  {
   "cell_type": "code",
   "execution_count": 1,
   "metadata": {},
   "outputs": [
    {
     "data": {
      "text/plain": [
       "'d:\\\\Proiects\\\\Github\\\\Transmil'"
      ]
     },
     "execution_count": 1,
     "metadata": {},
     "output_type": "execute_result"
    }
   ],
   "source": [
    "import os\n",
    "os.getcwd()"
   ]
  },
  {
   "cell_type": "code",
   "execution_count": 3,
   "metadata": {},
   "outputs": [
    {
     "name": "stdout",
     "output_type": "stream",
     "text": [
      "Package                 Version\n",
      "----------------------- ------------\n",
      "absl-py                 2.0.0\n",
      "addict                  2.2.1\n",
      "aiohttp                 3.8.5\n",
      "aiosignal               1.3.1\n",
      "albumentations          0.4.3\n",
      "antlr4-python3-runtime  4.9.3\n",
      "async-timeout           4.0.3\n",
      "asynctest               0.13.0\n",
      "attrs                   23.1.0\n",
      "backcall                0.2.0\n",
      "brotlipy                0.7.0\n",
      "cachetools              5.3.1\n",
      "certifi                 2022.12.7\n",
      "cffi                    1.15.1\n",
      "charset-normalizer      2.0.4\n",
      "colorama                0.4.6\n",
      "cryptography            39.0.1\n",
      "cycler                  0.11.0\n",
      "debugpy                 1.7.0\n",
      "decorator               5.1.1\n",
      "einops                  0.3.0\n",
      "entrypoints             0.4\n",
      "fonttools               4.38.0\n",
      "frozenlist              1.3.3\n",
      "fsspec                  2023.1.0\n",
      "future                  0.18.3\n",
      "google-auth             2.23.1\n",
      "google-auth-oauthlib    0.4.6\n",
      "grpcio                  1.58.0\n",
      "idna                    3.4\n",
      "imageio                 2.31.2\n",
      "imgaug                  0.2.6\n",
      "importlib-metadata      6.7.0\n",
      "ipykernel               6.16.2\n",
      "ipython                 7.34.0\n",
      "jedi                    0.19.0\n",
      "jupyter_client          7.4.9\n",
      "jupyter_core            4.12.0\n",
      "kiwisolver              1.4.5\n",
      "Markdown                3.4.4\n",
      "MarkupSafe              2.1.3\n",
      "matplotlib              3.5.1\n",
      "matplotlib-inline       0.1.6\n",
      "mkl-fft                 1.3.1\n",
      "mkl-random              1.2.2\n",
      "mkl-service             2.4.0\n",
      "multidict               6.0.4\n",
      "nest-asyncio            1.5.8\n",
      "networkx                2.6.3\n",
      "numpy                   1.20.3\n",
      "nystrom-attention       0.0.9\n",
      "oauthlib                3.2.2\n",
      "omegaconf               2.2.3\n",
      "opencv-python           4.2.0.34\n",
      "opencv-python-headless  4.2.0.34\n",
      "packaging               23.1\n",
      "pandas                  1.2.3\n",
      "parso                   0.8.3\n",
      "pickleshare             0.7.5\n",
      "Pillow                  8.4.0\n",
      "pip                     23.2.1\n",
      "prompt-toolkit          3.0.39\n",
      "protobuf                3.20.3\n",
      "psutil                  5.9.5\n",
      "pyasn1                  0.5.0\n",
      "pyasn1-modules          0.3.0\n",
      "pycparser               2.21\n",
      "Pygments                2.16.1\n",
      "pyOpenSSL               23.0.0\n",
      "pyparsing               3.1.1\n",
      "PySocks                 1.7.1\n",
      "python-dateutil         2.8.2\n",
      "pytorch-lightning       1.2.3\n",
      "pytorch-toolbelt        0.6.3\n",
      "pytz                    2023.3.post1\n",
      "PyWavelets              1.3.0\n",
      "pywin32                 306\n",
      "PyYAML                  6.0.1\n",
      "pyzmq                   25.1.1\n",
      "requests                2.28.1\n",
      "requests-oauthlib       1.3.1\n",
      "rsa                     4.9\n",
      "scikit-image            0.19.3\n",
      "scipy                   1.7.3\n",
      "setuptools              68.2.2\n",
      "six                     1.16.0\n",
      "tensorboard             2.11.2\n",
      "tensorboard-data-server 0.6.1\n",
      "tensorboard-plugin-wit  1.8.1\n",
      "tifffile                2021.11.2\n",
      "torchmetrics            0.11.4\n",
      "tornado                 6.2\n",
      "tqdm                    4.66.1\n",
      "traitlets               5.9.0\n",
      "typing_extensions       4.3.0\n",
      "urllib3                 1.26.14\n",
      "wcwidth                 0.2.6\n",
      "Werkzeug                2.2.3\n",
      "wheel                   0.38.4\n",
      "win-inet-pton           1.1.0\n",
      "yarl                    1.9.2\n",
      "zipp                    3.15.0\n"
     ]
    }
   ],
   "source": [
    "import torch \n",
    "torch.cuda.is_available()"
   ]
  },
  {
   "cell_type": "code",
   "execution_count": 5,
   "metadata": {},
   "outputs": [
    {
     "name": "stdout",
     "output_type": "stream",
     "text": [
      "---->Log dir: D:\\Proiects\\Github\\Transmil\\Camelyon\\fanfan\\fold0\n"
     ]
    },
    {
     "name": "stderr",
     "output_type": "stream",
     "text": [
      "Global seed set to 2021\n",
      "Traceback (most recent call last):\n",
      "  File \"train.py\", line 92, in <module>\n",
      "    main(cfg)\n",
      "  File \"train.py\", line 66, in main\n",
      "    check_val_every_n_epoch=1,\n",
      "  File \"d:\\StudyApps\\anaconda3\\envs\\Transmil\\lib\\site-packages\\pytorch_lightning\\trainer\\connectors\\env_vars_connector.py\", line 42, in overwrite_by_env_vars\n",
      "    return fn(self, **kwargs)\n",
      "  File \"d:\\StudyApps\\anaconda3\\envs\\Transmil\\lib\\site-packages\\pytorch_lightning\\trainer\\trainer.py\", line 320, in __init__\n",
      "    replace_sampler_ddp, deterministic, precision, amp_backend, amp_level, plugins\n",
      "  File \"d:\\StudyApps\\anaconda3\\envs\\Transmil\\lib\\site-packages\\pytorch_lightning\\trainer\\connectors\\accelerator_connector.py\", line 117, in __init__\n",
      "    self.parallel_device_ids = device_parser.parse_gpu_ids(self.gpus)\n",
      "  File \"d:\\StudyApps\\anaconda3\\envs\\Transmil\\lib\\site-packages\\pytorch_lightning\\utilities\\device_parser.py\", line 81, in parse_gpu_ids\n",
      "    gpus = _sanitize_gpu_ids(gpus)\n",
      "  File \"d:\\StudyApps\\anaconda3\\envs\\Transmil\\lib\\site-packages\\pytorch_lightning\\utilities\\device_parser.py\", line 143, in _sanitize_gpu_ids\n",
      "    f\"You requested GPUs: {gpus}\\n But your machine only has: {all_available_gpus}\"\n",
      "pytorch_lightning.utilities.exceptions.MisconfigurationException: You requested GPUs: [0]\n",
      " But your machine only has: []\n"
     ]
    }
   ],
   "source": [
    "!python train.py --stage='train' --config=D:/Proiects/Github/Transmil/Camelyon/fanfan.yaml  --gpus=0 --fold=0"
   ]
  },
  {
   "cell_type": "code",
   "execution_count": null,
   "metadata": {},
   "outputs": [],
   "source": [
    "!python train.py --stage='test' --config='Camelyon/TransMIL.yaml'  --gpus=0 --fold=0"
   ]
  }
 ],
 "metadata": {
  "kernelspec": {
   "display_name": "Python 3.9.7 ('test')",
   "language": "python",
   "name": "python3"
  },
  "language_info": {
   "codemirror_mode": {
    "name": "ipython",
    "version": 3
   },
   "file_extension": ".py",
   "mimetype": "text/x-python",
   "name": "python",
   "nbconvert_exporter": "python",
   "pygments_lexer": "ipython3",
   "version": "3.7.16"
  },
  "orig_nbformat": 4,
  "vscode": {
   "interpreter": {
    "hash": "1ba69ead3279dcefa2bd7fda5deb51a7e26be9b05f7bd0cbc7b7763c85faaf54"
   }
  }
 },
 "nbformat": 4,
 "nbformat_minor": 2
}
